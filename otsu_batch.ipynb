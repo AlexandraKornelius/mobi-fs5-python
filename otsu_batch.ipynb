{
 "cells": [
  {
   "cell_type": "markdown",
   "metadata": {},
   "source": [
    "# [Lab Session 2](otsu.ipynb)"
   ]
  },
  {
   "cell_type": "code",
   "execution_count": 52,
   "metadata": {},
   "outputs": [],
   "source": [
    "import numpy as np\n",
    "import matplotlib.pyplot as plt"
   ]
  },
  {
   "cell_type": "markdown",
   "metadata": {},
   "source": [
    "**[Task 2.1.]()** Implement Otsu thresholding as a re-usable function:"
   ]
  },
  {
   "cell_type": "code",
   "execution_count": 53,
   "metadata": {},
   "outputs": [],
   "source": [
    "def compute_histogram(img8):\n",
    "    h = np.zeros(256, dtype=int) #erstmal ein leerer Array, in den die Intensitätswerte hinein sollen\n",
    "    for i in range(256): #es geht um die Intensitätswerte i über das gesamte Bild, das 256 Werte beinhaltet\n",
    "        h[i] = np.sum(img8 == i) #aufsummieren der Intensitätswerte und speichern im Index vom h, das ihren jeweiligen Intensität wiedergibt\n",
    "    return(h)\n",
    "\n",
    "\n",
    "def otsu_thresholding(imgf):\n",
    "    img8 = (imgf * 255).round().astype(np.uint8)\n",
    "     #Leerer Array, in dem der T mit min gespeichert wird\n",
    "     #berechnen des Hist\n",
    "    h = compute_histogram(img8)\n",
    "    minimal_T = np.array(0)\n",
    "    #Anzahl aller Pixel\n",
    "    total_pixels = np.sum(h)\n",
    "    # Hilfsvariablen für die Berechnung\n",
    "    T_values = range(1, 256)  # Schwellenwerte von 1 bis 255\n",
    "    min_within_class_variance = float(\"inf\")  # Minimaler Wert\n",
    "\n",
    "    for T in T_values:\n",
    "        # Klasse 1: Bereich [0, T-1]\n",
    "        n1 = np.sum(h[0:T])  # Anzahl Pixel in Klasse 1\n",
    "        if n1 == 0:  # Keine Pixel in Klasse 1\n",
    "            continue\n",
    "        mean1 = np.sum([i * h[i] for i in range(T)]) / n1  # Mittelwert Klasse 1\n",
    "        var1 = np.var([i for i in range(T) for _ in range(h[i])])  # Varianz Klasse 1\n",
    "\n",
    "        # Klasse 2: Bereich [T, 255]\n",
    "        n2 = total_pixels - n1  # Anzahl Pixel in Klasse 2\n",
    "        if n2 == 0:  # Keine Pixel in Klasse 2\n",
    "            continue\n",
    "        mean2 = np.sum([i * h[i] for i in range(T, 256)]) / n2  # Mittelwert Klasse 2\n",
    "        var2 = np.var([i for i in range(T, 256) for _ in range(h[i])])  # Varianz Klasse 2\n",
    "\n",
    "        # Gewichtete Varianz innerhalb der Klassen\n",
    "        seg = n1 * var1 + n2 * var2\n",
    "\n",
    "        # Prüfen, ob dies die minimalste Varianz ist\n",
    "        if seg < min_within_class_variance:\n",
    "            min_within_class_variance = seg\n",
    "            optimal_T = T\n",
    "\n",
    "    print(f\"Optimaler Schwellenwert T: {optimal_T}\")\n",
    "        \n",
    "        \n",
    "    return seg"
   ]
  },
  {
   "cell_type": "markdown",
   "metadata": {},
   "source": [
    "**[Task 2.2.]()** Implement a re-usable function to compute the Dice coefficient:"
   ]
  },
  {
   "cell_type": "code",
   "execution_count": 54,
   "metadata": {},
   "outputs": [],
   "source": [
    "def compute_dice(bin1, bin2):\n",
    "    assert bin1.dtype == bool\n",
    "    assert bin2.dtype == bool\n",
    "    \n",
    "    ground_truth = plt.imread('data/NIH3T3/gt/0.png')\n",
    "    G = bin1.sum()\n",
    "    H = bin2.sum()\n",
    "    X4 = bin1 * bin2\n",
    "    J = X4.sum()\n",
    "    dice = (2 * J)/(G + H)\n",
    "    print(dice)\n",
    "    \n",
    "    return dice"
   ]
  },
  {
   "cell_type": "markdown",
   "metadata": {},
   "source": [
    "**[Task 2.3.]()** Test your implementations from above:"
   ]
  },
  {
   "cell_type": "code",
   "execution_count": null,
   "metadata": {},
   "outputs": [
    {
     "name": "stdout",
     "output_type": "stream",
     "text": [
      "Optimaler Schwellenwert T: 31\n"
     ]
    }
   ],
   "source": [
    "#load images\n",
    "imgf = plt.imread('data/NIH3T3/im/dna-0.png')\n",
    "ground_truth = plt.imread('data/NIH3T3/gt/0.png')\n",
    "\n",
    "#perform the Otsu with the function\n",
    "imgf_s = otsu_thresholding(imgf)\n",
    "\n"
   ]
  },
  {
   "cell_type": "code",
   "execution_count": 63,
   "metadata": {},
   "outputs": [
    {
     "name": "stdout",
     "output_type": "stream",
     "text": [
      "1.9999919786310731\n"
     ]
    },
    {
     "data": {
      "text/plain": [
       "1.9999919786310731"
      ]
     },
     "execution_count": 63,
     "metadata": {},
     "output_type": "execute_result"
    }
   ],
   "source": [
    "#make imgf binary\n",
    "imgf_bin = imgf_s.astype(bool)\n",
    "ground_truth_bin = (ground_truth > 0).astype(bool)\n",
    "\n",
    "#perform dice calc with the function\n",
    "compute_dice(imgf_bin, ground_truth_bin)\n",
    "\n",
    "#Lsg muss 0.8943783223933183"
   ]
  },
  {
   "cell_type": "markdown",
   "metadata": {},
   "source": [
    "The result should be the same as in your [otsu.ipynb](otsu.ipynb) notebook."
   ]
  },
  {
   "cell_type": "markdown",
   "metadata": {},
   "source": [
    "**[Task 2.4.]()** Perform batch processing:"
   ]
  },
  {
   "cell_type": "code",
   "execution_count": null,
   "metadata": {},
   "outputs": [],
   "source": [
    "# Anwendungen auf mehrere Bilder gleichzeitig anwenden\n",
    "#siehe Bild\n",
    "# vorletzter Ergebniss ist nicht richtig"
   ]
  }
 ],
 "metadata": {
  "kernelspec": {
   "display_name": "Python 3",
   "language": "python",
   "name": "python3"
  },
  "language_info": {
   "codemirror_mode": {
    "name": "ipython",
    "version": 3
   },
   "file_extension": ".py",
   "mimetype": "text/x-python",
   "name": "python",
   "nbconvert_exporter": "python",
   "pygments_lexer": "ipython3",
   "version": "3.12.7"
  }
 },
 "nbformat": 4,
 "nbformat_minor": 4
}
